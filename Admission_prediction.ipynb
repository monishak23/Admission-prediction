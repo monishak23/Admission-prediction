{
 "cells": [
  {
   "cell_type": "code",
   "execution_count": null,
   "id": "fdcacdbf",
   "metadata": {},
   "outputs": [],
   "source": [
    "from sklearn.model_selection import train_test_split\n",
    "from sklearn import datasets\n",
    "import pandas as pd\n",
    "import matplotlib.pyplot as plt\n",
    "import numpy as np\n",
    "import seaborn as sb\n",
    "\n",
    "df = pd.read_csv('admissiondata.csv')\n",
    "df['STATUS'] = pd.factorize(df.status)[0]\n"
   ]
  },
  {
   "cell_type": "code",
   "execution_count": null,
   "id": "6928431f",
   "metadata": {},
   "outputs": [],
   "source": [
    "plt.figure(figsize=(6,5))\n",
    "sb.heatmap(df.corr())\n",
    "plt.show()"
   ]
  },
  {
   "cell_type": "code",
   "execution_count": null,
   "id": "11e9597f",
   "metadata": {},
   "outputs": [],
   "source": [
    "X = df[['ssc_p', 'hsc_p', 'hsc2_p', 'etest_p', 'intr_p']]\n",
    "y = df['STATUS']\n",
    "\n",
    "X_train, X_test, y_train, y_test = train_test_split(X, y, test_size = 0.3,random_state = 42)\n",
    "\n",
    "from logReg import logisticReg\n",
    "\n",
    "def accuracy(y_true,y_pred):\n",
    "  acc = np.sum(y_true == y_pred) / len(y_true)\n",
    "  return acc"
   ]
  },
  {
   "cell_type": "code",
   "execution_count": null,
   "id": "8c83f552",
   "metadata": {},
   "outputs": [],
   "source": [
    "lr = logisticReg()"
   ]
  },
  {
   "cell_type": "code",
   "execution_count": null,
   "id": "111e5013",
   "metadata": {},
   "outputs": [],
   "source": [
    "lr.fit(X_train, y_train)"
   ]
  },
  {
   "cell_type": "code",
   "execution_count": null,
   "id": "8dd01ca2",
   "metadata": {},
   "outputs": [],
   "source": [
    "predictions = lr.predict(X_test)"
   ]
  },
  {
   "cell_type": "code",
   "execution_count": null,
   "id": "c60c59a4",
   "metadata": {},
   "outputs": [],
   "source": [
    "df1 = pd.DataFrame({'Actual' : y_test, 'Predicted' : predictions})"
   ]
  },
  {
   "cell_type": "code",
   "execution_count": null,
   "id": "dcde5df2",
   "metadata": {},
   "outputs": [],
   "source": [
    "df1"
   ]
  },
  {
   "cell_type": "code",
   "execution_count": null,
   "id": "627c6bf3",
   "metadata": {},
   "outputs": [],
   "source": [
    "print(\"Accuracy of the predicted values: \", accuracy(y_test,predictions))"
   ]
  },
  {
   "cell_type": "code",
   "execution_count": null,
   "id": "f41f4174",
   "metadata": {},
   "outputs": [],
   "source": [
    "from sklearn.metrics import confusion_matrix\n",
    "cm=confusion_matrix(y_test,predictions)\n",
    "plt.figure(figsize=(10,6))\n",
    "plt.title(\"Confusion Matrix\")\n",
    "sb.heatmap(cm, annot=True,fmt='d', cmap='YlGnBu')\n",
    "plt.ylabel(\"Actual Values\")\n",
    "plt.xlabel(\"Predicted Values\")"
   ]
  }
 ],
 "metadata": {
  "kernelspec": {
   "display_name": "Python 3",
   "language": "python",
   "name": "python3"
  },
  "language_info": {
   "codemirror_mode": {
    "name": "ipython",
    "version": 3
   },
   "file_extension": ".py",
   "mimetype": "text/x-python",
   "name": "python",
   "nbconvert_exporter": "python",
   "pygments_lexer": "ipython3",
   "version": "3.8.8"
  }
 },
 "nbformat": 4,
 "nbformat_minor": 5
}
