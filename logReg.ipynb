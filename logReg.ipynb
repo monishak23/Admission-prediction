{
 "cells": [
  {
   "cell_type": "code",
   "execution_count": null,
   "id": "f6af31a4",
   "metadata": {},
   "outputs": [],
   "source": [
    "import numpy as np"
   ]
  },
  {
   "cell_type": "code",
   "execution_count": null,
   "id": "b07ad2bc",
   "metadata": {},
   "outputs": [],
   "source": [
    "class logisticReg:\n",
    "  \n",
    "  def __init__(self, lr = 0.0001,n_iters =1000):\n",
    "        self.lr = lr\n",
    "        self.n_iters = n_iters\n",
    "        self.slope = None\n",
    "        self.intp = None\n",
    "\n",
    "  def fit(self,X,y):\n",
    "      n_samples, n_features = X.shape\n",
    "      self.slope = np.zeros(n_features)\n",
    "      self.intp = 0\n",
    "\n",
    "      #gd\n",
    "      for _ in range(self.n_iters):\n",
    "         \n",
    "          linear_model = np.dot(X,self.slope) + self.intp\n",
    "          y_predicted = self.sigmoid(linear_model)\n",
    "\n",
    "          dw = (1/n_samples) * np.dot(X.T, (y_predicted - y))\n",
    "          db = (1/n_samples) * np.sum(y_predicted - y)\n",
    "\n",
    "          self.slope -= self.lr * dw\n",
    "          self.intp -= self.lr * db \n",
    "\n",
    "  def predict(self,X):\n",
    "          linear_model = np.dot(X,self.slope) + self.intp\n",
    "          y_predicted = self.sigmoid(linear_model)\n",
    "\n",
    "          y_predicted_cls = [1 if i > 0.5 else 0 for i in y_predicted]\n",
    "          return y_predicted_cls\n",
    "\n",
    "  def sigmoid(self,x):\n",
    "    return 1/(1+np.exp(-x))"
   ]
  },
  {
   "cell_type": "code",
   "execution_count": null,
   "id": "23f8abf3",
   "metadata": {},
   "outputs": [],
   "source": []
  }
 ],
 "metadata": {
  "kernelspec": {
   "display_name": "Python 3",
   "language": "python",
   "name": "python3"
  },
  "language_info": {
   "codemirror_mode": {
    "name": "ipython",
    "version": 3
   },
   "file_extension": ".py",
   "mimetype": "text/x-python",
   "name": "python",
   "nbconvert_exporter": "python",
   "pygments_lexer": "ipython3",
   "version": "3.8.8"
  }
 },
 "nbformat": 4,
 "nbformat_minor": 5
}
